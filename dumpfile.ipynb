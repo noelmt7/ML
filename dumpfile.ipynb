{
 "cells": [
  {
   "cell_type": "code",
   "execution_count": null,
   "metadata": {},
   "outputs": [],
   "source": [
    "annotations = {\n",
    "'labels': ['Bacterial_spot', 'Early_blight', 'healthy', 'Late_blight', 'Leaf_Mold', 'Septoria_leaf_spot',\n",
    "'Spider_mites_Two_spotted_spider_mite', 'Target_spot', 'Tomato_mosaic_virus', 'Tomato_YellowLeaf_Curl_Virus'],\n",
    "'annotations': {\n",
    "'Tomato_Bacterial_spot': [{'label': 'Bacterial_spot'}],\n",
    "'Tomato_Early_blight': [{'label': 'Early_blight'}],\n",
    "'Tomato_healthy': [{'label': 'healthy'}],\n",
    "'Tomato_Late_blight': [{'label': 'Late_blight'}],\n",
    "'Tomato_Leaf_Mold': [{'label': 'Leaf_Mold'}],\n",
    "'Tomato_Septoria_leaf_spot': [{'label': 'Septoria_leaf_spot'}],\n",
    "'Tomato_Spider_mites_Two_spotted_spider_mite': [{'label': 'Spider_mites_Two_spotted_spider_mite'}],\n",
    "'Tomato__Target_Spot': [{'label': 'Target_spot'}],\n",
    "'Tomato__Tomato_mosaic_virus': [{'label': 'Tomato_mosaic_virus'}],\n",
    "'Tomato__Tomato_YellowLeaf__Curl_Virus': [{'label': 'Tomato_YellowLeaf_Curl_Virus'}]\n",
    "}\n",
    "}"
   ]
  }
 ],
 "metadata": {
  "language_info": {
   "name": "python"
  }
 },
 "nbformat": 4,
 "nbformat_minor": 2
}
