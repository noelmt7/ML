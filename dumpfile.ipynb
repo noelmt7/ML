{
 "cells": [
  {
   "cell_type": "code",
   "execution_count": null,
   "metadata": {},
   "outputs": [],
   "source": [
    "annotations = {\n",
    "'labels': ['Bacterial_spot', 'Early_blight', 'healthy', 'Late_blight', 'Leaf_Mold', 'Septoria_leaf_spot',\n",
    "'Spider_mites_Two_spotted_spider_mite', 'Target_spot', 'Tomato_mosaic_virus', 'Tomato_YellowLeaf_Curl_Virus'],\n",
    "'annotations': {\n",
    "'Tomato_Bacterial_spot': [{'label': 'Bacterial_spot'}],\n",
    "'Tomato_Early_blight': [{'label': 'Early_blight'}],\n",
    "'Tomato_healthy': [{'label': 'healthy'}],\n",
    "'Tomato_Late_blight': [{'label': 'Late_blight'}],\n",
    "'Tomato_Leaf_Mold': [{'label': 'Leaf_Mold'}],\n",
    "'Tomato_Septoria_leaf_spot': [{'label': 'Septoria_leaf_spot'}],\n",
    "'Tomato_Spider_mites_Two_spotted_spider_mite': [{'label': 'Spider_mites_Two_spotted_spider_mite'}],\n",
    "'Tomato__Target_Spot': [{'label': 'Target_spot'}],\n",
    "'Tomato__Tomato_mosaic_virus': [{'label': 'Tomato_mosaic_virus'}],\n",
    "'Tomato__Tomato_YellowLeaf__Curl_Virus': [{'label': 'Tomato_YellowLeaf_Curl_Virus'}]\n",
    "}\n",
    "}"
   ]
  },
  {
   "cell_type": "code",
   "execution_count": null,
   "metadata": {},
   "outputs": [],
   "source": [
    "import os\n",
    "\n",
    "# List of directories to limit the number of images\n",
    "directories = [\n",
    "    \"C:/Users/noelm/OneDrive/Desktop/Internship/Code/train/Tomato__Target_Spot\",\n",
    "    \"C:/Users/noelm/OneDrive/Desktop/Internship/Code/train/Tomato__Tomato_mosaic_virus\",\n",
    "    \"C:/Users/noelm/OneDrive/Desktop/Internship/Code/train/Tomato__Tomato_YellowLeaf__Curl_Virus\",\n",
    "    \"C:/Users/noelm/OneDrive/Desktop/Internship/Code/train/Tomato_Bacterial_spot\",\n",
    "    \"C:/Users/noelm/OneDrive/Desktop/Internship/Code/train/Tomato_Early_blight\",\n",
    "    \"C:/Users/noelm/OneDrive/Desktop/Internship/Code/train/Tomato_healthy\",\n",
    "    \"C:/Users/noelm/OneDrive/Desktop/Internship/Code/train/Tomato_Late_blight\",\n",
    "    \"C:/Users/noelm/OneDrive/Desktop/Internship/Code/train/Tomato_Leaf_Mold\",\n",
    "    \"C:/Users/noelm/OneDrive/Desktop/Internship/Code/train/Tomato_Septoria_leaf_spot\",\n",
    "    \"C:/Users/noelm/OneDrive/Desktop/Internship/Code/train/Tomato_Spider_mites_Two_spotted_spider_mite\"]\n",
    "\n",
    "# Maximum number of images to keep in each directory\n",
    "max_images = 200\n",
    "\n",
    "for directory in directories:\n",
    "    # Get the list of image files in the directory\n",
    "    images = os.listdir(directory)\n",
    "    # Check if the number of images is greater than the maximum limit\n",
    "    if len(images) > max_images:\n",
    "        # Sort the list of images alphabetically\n",
    "        images.sort()\n",
    "        # Determine the number of images to delete\n",
    "        num_to_delete = len(images) - max_images\n",
    "        # Loop over the images to delete\n",
    "        for i in range(num_to_delete):\n",
    "            # Construct the full file path for the image to delete\n",
    "            image_path = os.path.join(directory, images[i])\n",
    "            # Delete the image file\n",
    "            os.remove(image_path)\n",
    "            print(f\"Deleted image: {image_path}\")\n",
    "    else:\n",
    "        print(f\"No images deleted in {directory}.\")\n"
   ]
  },
  {
   "cell_type": "code",
   "execution_count": null,
   "metadata": {},
   "outputs": [],
   "source": [
    "import keras,os\n",
    "from keras.models import Sequential\n",
    "from keras.layers import Dense, Conv2D, MaxPool2D , Flatten\n"
   ]
  },
  {
   "cell_type": "code",
   "execution_count": null,
   "metadata": {},
   "outputs": [],
   "source": [
    "model = Sequential()\n",
    "model.add(Conv2D(input_shape=(224,224,3),filters=64,kernel_size=(3,3),padding=\"same\", activation=\"relu\"))\n",
    "model.add(Conv2D(filters=64,kernel_size=(3,3),padding=\"same\", activation=\"relu\"))\n",
    "model.add(MaxPool2D(pool_size=(2,2),strides=(2,2)))\n",
    "model.add(Conv2D(filters=128, kernel_size=(3,3), padding=\"same\", activation=\"relu\"))\n",
    "model.add(Conv2D(filters=128, kernel_size=(3,3), padding=\"same\", activation=\"relu\"))\n",
    "model.add(MaxPool2D(pool_size=(2,2),strides=(2,2)))\n",
    "model.add(Conv2D(filters=256, kernel_size=(3,3), padding=\"same\", activation=\"relu\"))\n",
    "model.add(Conv2D(filters=256, kernel_size=(3,3), padding=\"same\", activation=\"relu\"))\n",
    "model.add(Conv2D(filters=256, kernel_size=(3,3), padding=\"same\", activation=\"relu\"))\n",
    "model.add(MaxPool2D(pool_size=(2,2),strides=(2,2)))\n",
    "model.add(Conv2D(filters=512, kernel_size=(3,3), padding=\"same\", activation=\"relu\"))\n",
    "model.add(Conv2D(filters=512, kernel_size=(3,3), padding=\"same\", activation=\"relu\"))\n",
    "model.add(Conv2D(filters=512, kernel_size=(3,3), padding=\"same\", activation=\"relu\"))\n",
    "model.add(MaxPool2D(pool_size=(2,2),strides=(2,2)))\n",
    "model.add(Conv2D(filters=512, kernel_size=(3,3), padding=\"same\", activation=\"relu\"))\n",
    "model.add(Conv2D(filters=512, kernel_size=(3,3), padding=\"same\", activation=\"relu\"))\n",
    "model.add(Conv2D(filters=512, kernel_size=(3,3), padding=\"same\", activation=\"relu\"))\n",
    "model.add(MaxPool2D(pool_size=(2,2),strides=(2,2)))"
   ]
  },
  {
   "cell_type": "code",
   "execution_count": null,
   "metadata": {},
   "outputs": [],
   "source": [
    "model.add(Flatten())\n",
    "model.add(Dense(units=4096,activation=\"relu\"))\n",
    "model.add(Dense(units=4096,activation=\"relu\"))\n",
    "model.add(Dense(units=10, activation=\"softmax\"))"
   ]
  },
  {
   "cell_type": "code",
   "execution_count": null,
   "metadata": {},
   "outputs": [],
   "source": [
    "from keras.optimizers import Adam\n",
    "opt = Adam(learning_rate=0.001)\n",
    "model.compile(optimizer=opt, loss=keras.losses.categorical_crossentropy, metrics=['accuracy'])"
   ]
  },
  {
   "cell_type": "code",
   "execution_count": null,
   "metadata": {},
   "outputs": [],
   "source": [
    "# Train the model on the training data\n",
    "model.fit(train_images, train_labels, batch_size=64, epochs=10, validation_split=0.2)\n",
    "\n",
    "# Evaluate the model on the testing data\n",
    "test_loss, test_accuracy = model.evaluate(test_images, test_labels)\n",
    "print(f\"Test Accuracy: {test_accuracy * 100:.2f}%\")"
   ]
  }
 ],
 "metadata": {
  "language_info": {
   "name": "python"
  }
 },
 "nbformat": 4,
 "nbformat_minor": 2
}
