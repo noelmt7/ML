{
 "cells": [
  {
   "cell_type": "code",
   "execution_count": null,
   "metadata": {},
   "outputs": [],
   "source": [
    "annotations = {\n",
    "'labels': ['Bacterial_spot', 'Early_blight', 'healthy', 'Late_blight', 'Leaf_Mold', 'Septoria_leaf_spot',\n",
    "'Spider_mites_Two_spotted_spider_mite', 'Target_spot', 'Tomato_mosaic_virus', 'Tomato_YellowLeaf_Curl_Virus'],\n",
    "'annotations': {\n",
    "'Tomato_Bacterial_spot': [{'label': 'Bacterial_spot'}],\n",
    "'Tomato_Early_blight': [{'label': 'Early_blight'}],\n",
    "'Tomato_healthy': [{'label': 'healthy'}],\n",
    "'Tomato_Late_blight': [{'label': 'Late_blight'}],\n",
    "'Tomato_Leaf_Mold': [{'label': 'Leaf_Mold'}],\n",
    "'Tomato_Septoria_leaf_spot': [{'label': 'Septoria_leaf_spot'}],\n",
    "'Tomato_Spider_mites_Two_spotted_spider_mite': [{'label': 'Spider_mites_Two_spotted_spider_mite'}],\n",
    "'Tomato__Target_Spot': [{'label': 'Target_spot'}],\n",
    "'Tomato__Tomato_mosaic_virus': [{'label': 'Tomato_mosaic_virus'}],\n",
    "'Tomato__Tomato_YellowLeaf__Curl_Virus': [{'label': 'Tomato_YellowLeaf_Curl_Virus'}]\n",
    "}\n",
    "}"
   ]
  },
  {
   "cell_type": "code",
   "execution_count": null,
   "metadata": {},
   "outputs": [],
   "source": [
    "import os\n",
    "\n",
    "# List of directories to limit the number of images\n",
    "directories = [\n",
    "    \"C:/Users/noelm/OneDrive/Desktop/Internship/Code/train/Tomato__Target_Spot\",\n",
    "    \"C:/Users/noelm/OneDrive/Desktop/Internship/Code/train/Tomato__Tomato_mosaic_virus\",\n",
    "    \"C:/Users/noelm/OneDrive/Desktop/Internship/Code/train/Tomato__Tomato_YellowLeaf__Curl_Virus\",\n",
    "    \"C:/Users/noelm/OneDrive/Desktop/Internship/Code/train/Tomato_Bacterial_spot\",\n",
    "    \"C:/Users/noelm/OneDrive/Desktop/Internship/Code/train/Tomato_Early_blight\",\n",
    "    \"C:/Users/noelm/OneDrive/Desktop/Internship/Code/train/Tomato_healthy\",\n",
    "    \"C:/Users/noelm/OneDrive/Desktop/Internship/Code/train/Tomato_Late_blight\",\n",
    "    \"C:/Users/noelm/OneDrive/Desktop/Internship/Code/train/Tomato_Leaf_Mold\",\n",
    "    \"C:/Users/noelm/OneDrive/Desktop/Internship/Code/train/Tomato_Septoria_leaf_spot\",\n",
    "    \"C:/Users/noelm/OneDrive/Desktop/Internship/Code/train/Tomato_Spider_mites_Two_spotted_spider_mite\"]\n",
    "\n",
    "# Maximum number of images to keep in each directory\n",
    "max_images = 200\n",
    "\n",
    "for directory in directories:\n",
    "    # Get the list of image files in the directory\n",
    "    images = os.listdir(directory)\n",
    "    # Check if the number of images is greater than the maximum limit\n",
    "    if len(images) > max_images:\n",
    "        # Sort the list of images alphabetically\n",
    "        images.sort()\n",
    "        # Determine the number of images to delete\n",
    "        num_to_delete = len(images) - max_images\n",
    "        # Loop over the images to delete\n",
    "        for i in range(num_to_delete):\n",
    "            # Construct the full file path for the image to delete\n",
    "            image_path = os.path.join(directory, images[i])\n",
    "            # Delete the image file\n",
    "            os.remove(image_path)\n",
    "            print(f\"Deleted image: {image_path}\")\n",
    "    else:\n",
    "        print(f\"No images deleted in {directory}.\")\n"
   ]
  }
 ],
 "metadata": {
  "language_info": {
   "name": "python"
  }
 },
 "nbformat": 4,
 "nbformat_minor": 2
}
